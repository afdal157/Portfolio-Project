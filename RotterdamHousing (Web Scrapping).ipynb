{
 "cells": [
  {
   "cell_type": "code",
   "execution_count": 52,
   "metadata": {},
   "outputs": [],
   "source": [
    "from bs4 import BeautifulSoup\n",
    "import requests\n",
    "from csv import writer"
   ]
  },
  {
   "cell_type": "code",
   "execution_count": 53,
   "metadata": {},
   "outputs": [],
   "source": [
    "url = 'https://www.pararius.com/apartments/rotterdam'\n",
    "page = requests.get(url)"
   ]
  },
  {
   "cell_type": "code",
   "execution_count": 54,
   "metadata": {},
   "outputs": [],
   "source": [
    "soup = BeautifulSoup(page.content, 'html.parser')\n",
    "soup1 = BeautifulSoup(soup.prettify(), 'html.parser')\n",
    "\n",
    "lists = soup1.find_all('section', class_='listing-search-item')\n"
   ]
  },
  {
   "cell_type": "code",
   "execution_count": 55,
   "metadata": {},
   "outputs": [],
   "source": [
    "with open('RotterdamHousing.csv', 'w', encoding='utf8', newline='') as f:\n",
    "\n",
    "    thewriter = writer(f)\n",
    "    header = ['title', 'location', 'price', 'living_area', 'number_of_room']\n",
    "    thewriter.writerow(header)\n",
    "    \n",
    "\n",
    "    for list in lists:\n",
    "        title = list.find('a', class_='listing-search-item__link--title').text.replace('\\n', '')\n",
    "        location = list.find('div', class_='listing-search-item__sub-title').text.replace('\\n', '')\n",
    "        price = list.find('div', class_='listing-search-item__price').text.replace('\\n', '')\n",
    "        living_area = list.find('li', class_='illustrated-features__item--surface-area').text.replace('\\n', '')\n",
    "        number_of_room = list.find('li', class_='illustrated-features__item--number-of-rooms').text.replace('\\n', '')\n",
    "\n",
    "        info = [title, location, price, living_area, number_of_room]\n",
    "        thewriter.writerow(info)        "
   ]
  }
 ],
 "metadata": {
  "kernelspec": {
   "display_name": "Python 3.10.5 ('minimal_ds')",
   "language": "python",
   "name": "python3"
  },
  "language_info": {
   "codemirror_mode": {
    "name": "ipython",
    "version": 3
   },
   "file_extension": ".py",
   "mimetype": "text/x-python",
   "name": "python",
   "nbconvert_exporter": "python",
   "pygments_lexer": "ipython3",
   "version": "3.10.5"
  },
  "orig_nbformat": 4,
  "vscode": {
   "interpreter": {
    "hash": "69f0d1ae428a7644d44751ee5d2efeae931e6d25062a58d1ac498ba5443256e8"
   }
  }
 },
 "nbformat": 4,
 "nbformat_minor": 2
}
